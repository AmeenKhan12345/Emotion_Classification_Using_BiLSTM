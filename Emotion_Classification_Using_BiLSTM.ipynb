{
 "cells": [
  {
   "cell_type": "markdown",
   "metadata": {},
   "source": [
    "**INTRODUCTION:-** \n",
    "This project focuses on building an emotion classification system using a deep learning model. It processes text input to identify emotions such as happiness, sadness, anger, and more. Leveraging pre-trained embeddings, LSTM layers, and a trained tokenizer, the system achieves accurate predictions, making it suitable for sentiment analysis and emotional applications."
   ]
  },
  {
   "cell_type": "markdown",
   "metadata": {},
   "source": [
    "**DATASET LOADING AND EDA:-**\n",
    "The dataset contains text samples labeled with corresponding emotions. It is loaded into a DataFrame for exploration and analysis. Key steps include inspecting the dataset structure, handling missing values, and ensuring data consistency, which form the foundation for preprocessing and effective model training.\n",
    "Exploratory Data Analysis focuses on understanding the dataset through visualizations and statistical summaries. It identifies text length variations, class imbalances, and trends across emotion categories. Insights from EDA guide preprocessing decisions like truncating, padding, and balancing the dataset for optimal model performance."
   ]
  },
  {
   "cell_type": "code",
   "execution_count": null,
   "metadata": {},
   "outputs": [
    {
     "name": "stdout",
     "output_type": "stream",
     "text": [
      "   Emotion                                               Text\n",
      "0  neutral                                             Why ? \n",
      "1      joy    Sage Act upgrade on my to do list for tommorow.\n",
      "2  sadness  ON THE WAY TO MY HOMEGIRL BABY FUNERAL!!! MAN ...\n",
      "3      joy   Such an eye ! The true hazel eye-and so brill...\n",
      "4      joy  @Iluvmiasantos ugh babe.. hugggzzz for u .!  b...\n",
      "Emotion\n",
      "joy         11045\n",
      "sadness      6722\n",
      "fear         5410\n",
      "anger        4297\n",
      "surprise     4062\n",
      "neutral      2254\n",
      "disgust       856\n",
      "shame         146\n",
      "Name: count, dtype: int64\n"
     ]
    }
   ],
   "source": [
    "import pandas as pd\n",
    "\n",
    "# Load the dataset\n",
    "file_path = \"C:/Users/ASUS/Downloads/emotion-dataset.csv\"  # Replace with your dataset's file path\n",
    "df = pd.read_csv(file_path)\n",
    "\n",
    "# Inspect the first few rows\n",
    "print(df.head())\n",
    "\n",
    "# Check for unique emotions and their counts\n",
    "print(df['Emotion'].value_counts())"
   ]
  },
  {
   "cell_type": "code",
   "execution_count": null,
   "metadata": {},
   "outputs": [
    {
     "name": "stdout",
     "output_type": "stream",
     "text": [
      "Emotion\n",
      "joy         11045\n",
      "sadness      6722\n",
      "fear         5410\n",
      "anger        4297\n",
      "surprise     4062\n",
      "neutral      2254\n",
      "Name: count, dtype: int64\n"
     ]
    }
   ],
   "source": [
    "target_emotions = ['joy', 'anger', 'sadness', 'fear', 'surprise', 'neutral']\n",
    "# Filter the dataset for target emotions\n",
    "df_filtered = df[df['Emotion'].isin(target_emotions)]\n",
    "\n",
    "# Verify the filtered dataset\n",
    "print(df_filtered['Emotion'].value_counts())"
   ]
  },
  {
   "cell_type": "markdown",
   "metadata": {},
   "source": [
    "Handling the Class Imbalance\n",
    "Upsampling the 'neutral' class as it has the lowest count"
   ]
  },
  {
   "cell_type": "code",
   "execution_count": null,
   "metadata": {},
   "outputs": [
    {
     "name": "stdout",
     "output_type": "stream",
     "text": [
      "Upsampled class sizes:\n",
      "Joy: 11045\n",
      "Sadness: 11045\n",
      "Fear: 11045\n",
      "Anger: 11045\n",
      "Surprise: 11045\n",
      "Neutral: 11045\n",
      "Emotion\n",
      "neutral     11045\n",
      "anger       11045\n",
      "surprise    11045\n",
      "joy         11045\n",
      "sadness     11045\n",
      "fear        11045\n",
      "Name: count, dtype: int64\n",
      "Balanced dataset saved successfully!\n"
     ]
    }
   ],
   "source": [
    "from sklearn.utils import resample\n",
    "# Separate each class into individual DataFrames\n",
    "joy = df_filtered[df_filtered['Emotion'] == 'joy']\n",
    "sadness = df_filtered[df_filtered['Emotion'] == 'sadness']\n",
    "fear = df_filtered[df_filtered['Emotion'] == 'fear']\n",
    "anger = df_filtered[df_filtered['Emotion'] == 'anger']\n",
    "surprise = df_filtered[df_filtered['Emotion'] == 'surprise']\n",
    "neutral = df_filtered[df_filtered['Emotion'] == 'neutral']\n",
    "\n",
    "# Find the size of the largest class (joy)\n",
    "max_samples = max(len(joy), len(sadness), len(fear), len(anger), len(surprise))\n",
    "# Upsample all the minority classes to the size of the largest class\n",
    "joy_upsampled = resample(joy, replace=True, n_samples=max_samples, random_state=42)\n",
    "sadness_upsampled = resample(sadness, replace=True, n_samples=max_samples, random_state=42)\n",
    "fear_upsampled = resample(fear, replace=True, n_samples=max_samples, random_state=42)\n",
    "anger_upsampled = resample(anger, replace=True, n_samples=max_samples, random_state=42)\n",
    "surprise_upsampled = resample(surprise, replace=True, n_samples=max_samples, random_state=42)\n",
    "neutral_upsampled = resample(neutral, replace=True, n_samples=max_samples, random_state=42)\n",
    "# Check the size of each upsampled class\n",
    "print(\"Upsampled class sizes:\")\n",
    "print(\"Joy:\", len(joy_upsampled))\n",
    "print(\"Sadness:\", len(sadness_upsampled))\n",
    "print(\"Fear:\", len(fear_upsampled))\n",
    "print(\"Anger:\", len(anger_upsampled))\n",
    "print(\"Surprise:\", len(surprise_upsampled))\n",
    "print(\"Neutral:\", len(neutral_upsampled))\n",
    "\n",
    "# Combine all upsampled classes into a balanced dataset\n",
    "df_balanced = pd.concat([joy_upsampled, sadness_upsampled, fear_upsampled, anger_upsampled, surprise_upsampled, neutral_upsampled])\n",
    "# Shuffle the dataset to ensure randomness\n",
    "df_balanced = df_balanced.sample(frac=1, random_state=42)\n",
    "# Verify the new class distribution\n",
    "print(df_balanced['Emotion'].value_counts())\n",
    "\n",
    "# Save the balanced dataset to a new file\n",
    "df_balanced.to_csv(\"balanced_emotions_dataset.csv\", index=False)\n",
    "print(\"Balanced dataset saved successfully!\")"
   ]
  },
  {
   "cell_type": "markdown",
   "metadata": {},
   "source": [
    "Exploratory Data Analysis (EDA)"
   ]
  },
  {
   "cell_type": "code",
   "execution_count": null,
   "metadata": {},
   "outputs": [
    {
     "data": {
      "text/html": [
       "<div>\n",
       "<style scoped>\n",
       "    .dataframe tbody tr th:only-of-type {\n",
       "        vertical-align: middle;\n",
       "    }\n",
       "\n",
       "    .dataframe tbody tr th {\n",
       "        vertical-align: top;\n",
       "    }\n",
       "\n",
       "    .dataframe thead th {\n",
       "        text-align: right;\n",
       "    }\n",
       "</style>\n",
       "<table border=\"1\" class=\"dataframe\">\n",
       "  <thead>\n",
       "    <tr style=\"text-align: right;\">\n",
       "      <th></th>\n",
       "      <th>Emotion</th>\n",
       "      <th>Text</th>\n",
       "    </tr>\n",
       "  </thead>\n",
       "  <tbody>\n",
       "    <tr>\n",
       "      <th>0</th>\n",
       "      <td>neutral</td>\n",
       "      <td>So ?</td>\n",
       "    </tr>\n",
       "    <tr>\n",
       "      <th>1</th>\n",
       "      <td>anger</td>\n",
       "      <td>The base is overcrowded. Classes are shutting ...</td>\n",
       "    </tr>\n",
       "    <tr>\n",
       "      <th>2</th>\n",
       "      <td>surprise</td>\n",
       "      <td>@br1tn1h0p3 we were. they separated us at birt...</td>\n",
       "    </tr>\n",
       "    <tr>\n",
       "      <th>3</th>\n",
       "      <td>neutral</td>\n",
       "      <td>Hi , Kenji .</td>\n",
       "    </tr>\n",
       "    <tr>\n",
       "      <th>4</th>\n",
       "      <td>anger</td>\n",
       "      <td>Michael Stein was trying unsuccessfully to cal...</td>\n",
       "    </tr>\n",
       "  </tbody>\n",
       "</table>\n",
       "</div>"
      ],
      "text/plain": [
       "    Emotion                                               Text\n",
       "0   neutral                                              So ? \n",
       "1     anger  The base is overcrowded. Classes are shutting ...\n",
       "2  surprise  @br1tn1h0p3 we were. they separated us at birt...\n",
       "3   neutral                                      Hi , Kenji . \n",
       "4     anger  Michael Stein was trying unsuccessfully to cal..."
      ]
     },
     "metadata": {},
     "output_type": "display_data"
    }
   ],
   "source": [
    "import pandas as pd\n",
    "# Path to the dataset\n",
    "file_path = \"C:/Users/ASUS/Desktop/Week-2_Task/balanced_emotions_dataset.csv\"  # Adjust the path accordingly\n",
    "df = pd.read_csv(file_path)\n",
    "df.head()"
   ]
  },
  {
   "cell_type": "code",
   "execution_count": null,
   "metadata": {},
   "outputs": [
    {
     "name": "stdout",
     "output_type": "stream",
     "text": [
      "Emotion    0\n",
      "Text       0\n",
      "dtype: int64\n"
     ]
    }
   ],
   "source": [
    "# Check for missing values\n",
    "print(df.isnull().sum())"
   ]
  },
  {
   "cell_type": "code",
   "execution_count": null,
   "metadata": {},
   "outputs": [
    {
     "name": "stderr",
     "output_type": "stream",
     "text": [
      "C:\\Users\\ASUS\\AppData\\Local\\Temp\\ipykernel_8288\\924599657.py:7: FutureWarning: \n",
      "\n",
      "Passing `palette` without assigning `hue` is deprecated and will be removed in v0.14.0. Assign the `x` variable to `hue` and set `legend=False` for the same effect.\n",
      "\n",
      "  sns.countplot(x='Emotion', data=df, palette='viridis')\n"
     ]
    },
    {
     "data": {
      "image/png": "[encoded data removed]",
      "text/plain": [
       "<Figure size 800x600 with 1 Axes>"
      ]
     },
     "metadata": {},
     "output_type": "display_data"
    }
   ],
   "source": [
    "# Checking Class Distribution\n",
    "import matplotlib.pyplot as plt\n",
    "import seaborn as sns\n",
    "\n",
    "# Plot class distribution\n",
    "plt.figure(figsize=(8, 6))\n",
    "sns.countplot(x='Emotion', data=df, palette='viridis')\n",
    "plt.title('Class Distribution of Emotions')\n",
    "plt.xlabel('Emotion')\n",
    "plt.ylabel('Count')\n",
    "plt.show()"
   ]
  },
  {
   "cell_type": "code",
   "execution_count": null,
   "metadata": {},
   "outputs": [
    {
     "data": {
      "image/png": "[encoded data removed]",
      "text/plain": [
       "<Figure size 800x600 with 1 Axes>"
      ]
     },
     "metadata": {},
     "output_type": "display_data"
    }
   ],
   "source": [
    "# Text Length Distribution\n",
    "# Calculate the length of each text entry\n",
    "df['text_length'] = df['Text'].apply(len)\n",
    "\n",
    "# Plot the distribution of text lengths\n",
    "plt.figure(figsize=(8, 6))\n",
    "sns.histplot(df['text_length'], kde=True, color='blue')\n",
    "plt.title('Distribution of Text Lengths')\n",
    "plt.xlabel('Text Length')\n",
    "plt.ylabel('Frequency')\n",
    "plt.show()"
   ]
  },
  {
   "cell_type": "code",
   "execution_count": null,
   "metadata": {},
   "outputs": [
    {
     "name": "stdout",
     "output_type": "stream",
     "text": [
      "                                                    Text  text_length\n",
      "0                                                  So ?             6\n",
      "1      The base is overcrowded. Classes are shutting ...          133\n",
      "2      @br1tn1h0p3 we were. they separated us at birt...           98\n",
      "3                                          Hi , Kenji .            13\n",
      "4      Michael Stein was trying unsuccessfully to cal...           99\n",
      "...                                                  ...          ...\n",
      "66265  Lineker became incensed when Taylor went publi...          228\n",
      "66266                         Thursday night channel 5!            26\n",
      "66267  iedereen ligt al in bed ofzo en ik zit hier ge...           76\n",
      "66268  Good Is Faith.  Thank You Jesus.   #belief #pe...           58\n",
      "66269   But I don't know what else I can do . I am wi...          121\n",
      "\n",
      "[66270 rows x 2 columns]\n"
     ]
    }
   ],
   "source": [
    "df['text_length'] = df['Text'].apply(len)\n",
    "print(df[['Text', 'text_length']])"
   ]
  },
  {
   "cell_type": "code",
   "execution_count": null,
   "metadata": {},
   "outputs": [
    {
     "name": "stdout",
     "output_type": "stream",
     "text": [
      "count    66270.000000\n",
      "mean        81.852528\n",
      "std         50.575556\n",
      "min          4.000000\n",
      "25%         46.000000\n",
      "50%         78.000000\n",
      "75%        113.000000\n",
      "max       1160.000000\n",
      "Name: text_length, dtype: float64\n"
     ]
    }
   ],
   "source": [
    "# Basic statistics on the 'text_length' column\n",
    "text_length_stats = df['text_length'].describe()\n",
    "\n",
    "# Display the basic statistics\n",
    "print(text_length_stats)"
   ]
  },
  {
   "cell_type": "markdown",
   "metadata": {},
   "source": [
    "**DATASET PREPROCESSING**"
   ]
  },
  {
   "cell_type": "markdown",
   "metadata": {},
   "source": [
    "Cleaning the text and creating a new column of cleaned text"
   ]
  },
  {
   "cell_type": "code",
   "execution_count": null,
   "metadata": {},
   "outputs": [
    {
     "name": "stderr",
     "output_type": "stream",
     "text": [
      "[nltk_data] Downloading package stopwords to\n",
      "[nltk_data]     C:\\Users\\ASUS\\AppData\\Roaming\\nltk_data...\n",
      "[nltk_data]   Package stopwords is already up-to-date!\n",
      "[nltk_data] Downloading package wordnet to\n",
      "[nltk_data]     C:\\Users\\ASUS\\AppData\\Roaming\\nltk_data...\n",
      "[nltk_data]   Package wordnet is already up-to-date!\n"
     ]
    },
    {
     "name": "stdout",
     "output_type": "stream",
     "text": [
      "                                                Text  \\\n",
      "0                                              So ?    \n",
      "1  The base is overcrowded. Classes are shutting ...   \n",
      "2  @br1tn1h0p3 we were. they separated us at birt...   \n",
      "3                                      Hi , Kenji .    \n",
      "4  Michael Stein was trying unsuccessfully to cal...   \n",
      "\n",
      "                                        Cleaned_Text  \n",
      "0                                                 so  \n",
      "1  the base is overcrowded classes are shutting d...  \n",
      "2  br1tn1h0p3 we were they separated us at birth ...  \n",
      "3                                           hi kenji  \n",
      "4  michael stein was trying unsuccessfully to cal...  \n",
      "Dataset with cleaned text saved as a new file!\n"
     ]
    }
   ],
   "source": [
    "import string\n",
    "from nltk.corpus import stopwords\n",
    "from nltk.stem import WordNetLemmatizer\n",
    "import nltk\n",
    "\n",
    "# Download necessary NLTK resources\n",
    "nltk.download('stopwords')\n",
    "nltk.download('wordnet')\n",
    "\n",
    "# Initialize stopwords and lemmatizer\n",
    "stop_words = set(stopwords.words('english'))\n",
    "lemmatizer = WordNetLemmatizer()\n",
    "\n",
    "# Define a text cleaning function\n",
    "def preprocess_text(text):\n",
    "    text = text.lower()  # Convert to lowercase\n",
    "    text = ''.join([char for char in text if char.isalnum() or char.isspace()])  # Keep alphanumeric chars\n",
    "    words = text.split()  # Tokenize\n",
    "    return ' '.join(words)\n",
    "\n",
    "# Apply the cleaning function to the 'Text' column and create a new column 'Cleaned_Text'\n",
    "df['Cleaned_Text'] = df['Text'].apply(preprocess_text)\n",
    "\n",
    "# Display the first few rows of the updated DataFrame\n",
    "print(df[['Text', 'Cleaned_Text']].head())\n",
    "# Save as a new file instead of overwriting\n",
    "df.to_csv(\"dataset_with_cleaned_text1.csv\", index=False)\n",
    "print(\"Dataset with cleaned text saved as a new file!\")\n"
   ]
  },
  {
   "cell_type": "code",
   "execution_count": null,
   "metadata": {},
   "outputs": [
    {
     "name": "stdout",
     "output_type": "stream",
     "text": [
      "Emotion            0\n",
      "Text               0\n",
      "text_length        0\n",
      "Cleaned_Text       0\n",
      "num_characters     0\n",
      "num_words          0\n",
      "avg_word_length    0\n",
      "num_sentences      0\n",
      "polarity           0\n",
      "subjectivity       0\n",
      "dtype: int64\n"
     ]
    }
   ],
   "source": [
    "import pandas as pd\n",
    "# Path to the dataset\n",
    "file_path = \"C:/Users/ASUS/Desktop/Week-2_Task/dataset_with_cleaned_text1.csv\"  # Adjust the path accordingly\n",
    "df = pd.read_csv(file_path)\n",
    "df.head()\n",
    "print(df.isnull().sum())"
   ]
  },
  {
   "cell_type": "markdown",
   "metadata": {},
   "source": [
    "Handling Emojis"
   ]
  },
  {
   "cell_type": "code",
   "execution_count": null,
   "metadata": {},
   "outputs": [],
   "source": [
    "import emoji\n",
    "\n",
    "# Function to replace emojis with text\n",
    "def replace_emojis(text):\n",
    "    return emoji.demojize(text, delimiters=(\" \", \" \"))  # 😊 → :smiling_face_with_smiling_eyes:\n",
    "\n",
    "# Apply to your text\n",
    "df['Cleaned_Text'] = df['Cleaned_Text'].apply(replace_emojis)"
   ]
  },
  {
   "cell_type": "markdown",
   "metadata": {},
   "source": [
    "Handling Abbreviations and Slang"
   ]
  },
  {
   "cell_type": "code",
   "execution_count": null,
   "metadata": {},
   "outputs": [],
   "source": [
    "# Dictionary for common abbreviations and slang\n",
    "slang_dict = {\n",
    "    \"u\": \"you\",\n",
    "    \"ur\": \"your\",\n",
    "    \"idk\": \"i don't know\",\n",
    "    \"brb\": \"be right back\",\n",
    "    \"lol\": \"laughing out loud\",\n",
    "    \"btw\": \"by the way\"\n",
    "}\n",
    "\n",
    "# Function to replace slang terms\n",
    "def replace_slang(text):\n",
    "    words = text.split()\n",
    "    words = [slang_dict[word] if word in slang_dict else word for word in words]\n",
    "    return ' '.join(words)\n",
    "\n",
    "# Apply to your text\n",
    "df['Cleaned_Text'] = df['Cleaned_Text'].apply(replace_slang)"
   ]
  },
  {
   "cell_type": "code",
   "execution_count": null,
   "metadata": {},
   "outputs": [
    {
     "name": "stdout",
     "output_type": "stream",
     "text": [
      "Index(['Emotion', 'Text', 'text_length', 'Cleaned_Text', 'num_characters',\n",
      "       'num_words', 'avg_word_length', 'num_sentences', 'polarity',\n",
      "       'subjectivity'],\n",
      "      dtype='object')\n"
     ]
    }
   ],
   "source": [
    "# Print all column names in the DataFrame\n",
    "print(df.columns)"
   ]
  },
  {
   "cell_type": "code",
   "execution_count": null,
   "metadata": {},
   "outputs": [
    {
     "name": "stdout",
     "output_type": "stream",
     "text": [
      "Updated dataset saved successfully!\n"
     ]
    }
   ],
   "source": [
    "# Save the updated DataFrame back to the same file\n",
    "df.to_csv(\"C:/Users/ASUS/Desktop/Week-2_Task/dataset_with_cleaned_text1.csv\", index=False)\n",
    "\n",
    "print(\"Updated dataset saved successfully!\")"
   ]
  },
  {
   "cell_type": "markdown",
   "metadata": {},
   "source": [
    "Tranforming our emotion labels into One-Hot Encoding"
   ]
  },
  {
   "cell_type": "code",
   "execution_count": null,
   "metadata": {},
   "outputs": [
    {
     "name": "stdout",
     "output_type": "stream",
     "text": [
      "First 5 One-Hot Encoded Labels:\n",
      "[[0. 0. 0. 1. 0. 0.]\n",
      " [1. 0. 0. 0. 0. 0.]\n",
      " [0. 0. 0. 0. 0. 1.]\n",
      " [0. 0. 0. 1. 0. 0.]\n",
      " [1. 0. 0. 0. 0. 0.]]\n",
      "Shape of One-Hot Encoded Labels: (66270, 6)\n"
     ]
    }
   ],
   "source": [
    "from sklearn.preprocessing import OneHotEncoder\n",
    "\n",
    "# Reshape the labels to a 2D array (required for OneHotEncoder)\n",
    "labels = df['Emotion'].values.reshape(-1, 1)\n",
    "\n",
    "# Initialize and apply One-Hot Encoding\n",
    "encoder = OneHotEncoder(sparse_output=False)\n",
    "y_encoded = encoder.fit_transform(labels)\n",
    "\n",
    "# Verify the transformation\n",
    "print(\"First 5 One-Hot Encoded Labels:\")\n",
    "print(y_encoded[:5])\n",
    "\n",
    "# Check the shape of the encoded labels\n",
    "print(\"Shape of One-Hot Encoded Labels:\", y_encoded.shape)"
   ]
  },
  {
   "cell_type": "code",
   "execution_count": null,
   "metadata": {},
   "outputs": [
    {
     "name": "stdout",
     "output_type": "stream",
     "text": [
      "Label Mapping:\n",
      "0: anger\n",
      "1: fear\n",
      "2: joy\n",
      "3: neutral\n",
      "4: sadness\n",
      "5: surprise\n"
     ]
    }
   ],
   "source": [
    "# Retrieve the label mapping\n",
    "label_mapping = encoder.categories_[0]\n",
    "print(\"Label Mapping:\")\n",
    "for i, label in enumerate(label_mapping):\n",
    "    print(f\"{i}: {label}\")"
   ]
  },
  {
   "cell_type": "code",
   "execution_count": null,
   "metadata": {},
   "outputs": [
    {
     "name": "stdout",
     "output_type": "stream",
     "text": [
      "count    66270.000000\n",
      "mean        14.708345\n",
      "std          9.512007\n",
      "min          1.000000\n",
      "25%          8.000000\n",
      "50%         14.000000\n",
      "75%         20.000000\n",
      "max        228.000000\n",
      "Name: text_length, dtype: float64\n"
     ]
    }
   ],
   "source": [
    "# Check text length distribution\n",
    "df['text_length'] = df['Cleaned_Text'].apply(lambda x: len(x.split()))\n",
    "print(df['text_length'].describe())"
   ]
  },
  {
   "cell_type": "markdown",
   "metadata": {},
   "source": [
    "Padding or truncating is necessary in your case due to the significant variation in text length.\n",
    "Padding ensures that all sequences have the same length.\n",
    "Truncating helps ensure that very long texts don't dominate the training process and cause excessive computational overhead.\n",
    "\n",
    "Steps for Truncating and Padding:\n",
    "Tokenize the Text Data: First, you need to convert the text data into a numerical format, like tokenizing it into integer sequences (where each word is mapped to an integer). You can use CountVectorizer or TF-IDF Vectorizer for this purpose, but for truncating and padding, tokenization is key.\n",
    "\n",
    "Apply Truncation and Padding: Use pad_sequences to truncate long texts and pad short texts."
   ]
  },
  {
   "cell_type": "code",
   "execution_count": null,
   "metadata": {},
   "outputs": [
    {
     "name": "stdout",
     "output_type": "stream",
     "text": [
      "Shape of padded sequences: (66270, 150)\n",
      "First padded sequence:\n",
      " [26  0  0  0  0  0  0  0  0  0  0  0  0  0  0  0  0  0  0  0  0  0  0  0\n",
      "  0  0  0  0  0  0  0  0  0  0  0  0  0  0  0  0  0  0  0  0  0  0  0  0\n",
      "  0  0  0  0  0  0  0  0  0  0  0  0  0  0  0  0  0  0  0  0  0  0  0  0\n",
      "  0  0  0  0  0  0  0  0  0  0  0  0  0  0  0  0  0  0  0  0  0  0  0  0\n",
      "  0  0  0  0  0  0  0  0  0  0  0  0  0  0  0  0  0  0  0  0  0  0  0  0\n",
      "  0  0  0  0  0  0  0  0  0  0  0  0  0  0  0  0  0  0  0  0  0  0  0  0\n",
      "  0  0  0  0  0  0]\n"
     ]
    }
   ],
   "source": [
    "from tensorflow.keras.preprocessing.text import Tokenizer\n",
    "from tensorflow.keras.preprocessing.sequence import pad_sequences\n",
    "\n",
    "# Initialize the tokenizer\n",
    "tokenizer = Tokenizer(num_words=5000, oov_token=\"<OOV>\")  # Limit vocabulary size and handle out-of-vocabulary words\n",
    "\n",
    "# Fit the tokenizer on the cleaned text\n",
    "tokenizer.fit_on_texts(df['Cleaned_Text'])\n",
    "\n",
    "# Convert the text into sequences of integers\n",
    "X_sequences = tokenizer.texts_to_sequences(df['Cleaned_Text'])\n",
    "\n",
    "# Define the maximum sequence length\n",
    "max_length = 150  # Adjust this based on your text length distribution\n",
    "\n",
    "# Apply padding and truncation\n",
    "X_padded = pad_sequences(X_sequences, maxlen=max_length, padding='post', truncating='post')\n",
    "\n",
    "# Verify the padded sequences\n",
    "print(\"Shape of padded sequences:\", X_padded.shape)\n",
    "print(\"First padded sequence:\\n\", X_padded[0])"
   ]
  },
  {
   "cell_type": "code",
   "execution_count": null,
   "metadata": {},
   "outputs": [
    {
     "data": {
      "image/png": "[encoded data removed]",
      "text/plain": [
       "<Figure size 640x480 with 1 Axes>"
      ]
     },
     "metadata": {},
     "output_type": "display_data"
    }
   ],
   "source": [
    "import matplotlib.pyplot as plt\n",
    "\n",
    "# Plot the distribution of text lengths\n",
    "plt.hist(df['text_length'], bins=50, edgecolor='black')\n",
    "plt.title('Distribution of Text Lengths')\n",
    "plt.xlabel('Text Length')\n",
    "plt.ylabel('Frequency')\n",
    "plt.show()\n"
   ]
  },
  {
   "cell_type": "markdown",
   "metadata": {},
   "source": [
    "**DATASET SPLITTING**"
   ]
  },
  {
   "cell_type": "code",
   "execution_count": null,
   "metadata": {},
   "outputs": [
    {
     "name": "stdout",
     "output_type": "stream",
     "text": [
      "Training data shape: (42412, 156) (42412, 6)\n",
      "Validation data shape: (10604, 156) (10604, 6)\n",
      "Testing data shape: (13254, 156) (13254, 6)\n"
     ]
    }
   ],
   "source": [
    "from sklearn.model_selection import train_test_split\n",
    "\n",
    "# Split the data (80% train, 20% test)\n",
    "X_train, X_test, y_train, y_test = train_test_split(X_combined, y_encoded, test_size=0.2, random_state=42)\n",
    "\n",
    "# Further split the training data into training and validation sets (80% train, 20% validation)\n",
    "X_train, X_val, y_train, y_val = train_test_split(X_train, y_train, test_size=0.2, random_state=42)\n",
    "\n",
    "print(\"Training data shape:\", X_train.shape, y_train.shape)\n",
    "print(\"Validation data shape:\", X_val.shape, y_val.shape)\n",
    "print(\"Testing data shape:\", X_test.shape, y_test.shape)"
   ]
  },
  {
   "cell_type": "markdown",
   "metadata": {},
   "source": [
    "**FEATURE ENGINEERING**:-\n",
    "\n",
    "In this, I will be doing Text Length Features and Sentiment Features that are valuable and straightforward features to help our model with emotion classification."
   ]
  },
  {
   "cell_type": "code",
   "execution_count": null,
   "metadata": {},
   "outputs": [
    {
     "name": "stdout",
     "output_type": "stream",
     "text": [
      "                                        Cleaned_Text  num_characters  \\\n",
      "0                                                 so               2   \n",
      "1  the base is overcrowded classes are shutting d...             126   \n",
      "2  br1tn1h0p3 we were they separated us at birth ...              94   \n",
      "3                                           hi kenji               8   \n",
      "4  michael stein was trying unsuccessfully to cal...              96   \n",
      "\n",
      "   num_words  avg_word_length  num_sentences  \n",
      "0          1         2.000000              0  \n",
      "1         22         5.727273              0  \n",
      "2         19         4.947368              0  \n",
      "3          2         4.000000              0  \n",
      "4         16         6.000000              0  \n"
     ]
    }
   ],
   "source": [
    "# Text Length Features\n",
    "df['num_characters'] = df['Cleaned_Text'].apply(len)  # Number of characters in the text\n",
    "df['num_words'] = df['Cleaned_Text'].apply(lambda x: len(x.split()))  # Number of words in the text\n",
    "df['avg_word_length'] = df['num_characters'] / df['num_words']  # Average word length\n",
    "df['num_sentences'] = df['Cleaned_Text'].apply(lambda x: x.count('.') + x.count('!') + x.count('?'))  # Number of sentences\n",
    "\n",
    "# Check the first few rows of the new text length features\n",
    "print(df[['Cleaned_Text', 'num_characters', 'num_words', 'avg_word_length', 'num_sentences']].head())"
   ]
  },
  {
   "cell_type": "code",
   "execution_count": null,
   "metadata": {},
   "outputs": [
    {
     "name": "stdout",
     "output_type": "stream",
     "text": [
      "                                        Cleaned_Text  polarity  subjectivity\n",
      "0                                                 so  0.000000      0.000000\n",
      "1  the base is overcrowded classes are shutting d... -0.263889      0.672222\n",
      "2  br1tn1h0p3 we were they separated us at birth ...  0.000000      0.000000\n",
      "3                                           hi kenji  0.000000      0.000000\n",
      "4  michael stein was trying unsuccessfully to cal...  0.300000      0.750000\n"
     ]
    }
   ],
   "source": [
    "from textblob import TextBlob\n",
    "\n",
    "# Create sentiment features\n",
    "df['polarity'] = df['Cleaned_Text'].apply(lambda x: TextBlob(x).sentiment.polarity)  # Sentiment polarity (-1 to 1)\n",
    "df['subjectivity'] = df['Cleaned_Text'].apply(lambda x: TextBlob(x).sentiment.subjectivity)  # Sentiment subjectivity (0 to 1)\n",
    "\n",
    "# Check the first few rows of the sentiment features\n",
    "print(df[['Cleaned_Text', 'polarity', 'subjectivity']].head())"
   ]
  },
  {
   "cell_type": "code",
   "execution_count": null,
   "metadata": {},
   "outputs": [
    {
     "name": "stdout",
     "output_type": "stream",
     "text": [
      "Shape of combined features: (66270, 156)\n"
     ]
    }
   ],
   "source": [
    "#Combining both the features\n",
    "from sklearn.preprocessing import StandardScaler\n",
    "import numpy as np\n",
    "\n",
    "# Standardize the numerical features\n",
    "scaler = StandardScaler()\n",
    "df[['num_characters', 'num_words', 'avg_word_length', 'num_sentences', 'polarity', 'subjectivity']] = scaler.fit_transform(\n",
    "    df[['num_characters', 'num_words', 'avg_word_length', 'num_sentences', 'polarity', 'subjectivity']])\n",
    "\n",
    "# Combine the padded sequences and additional features into a single feature set\n",
    "X_combined = np.hstack((X_padded, df[['num_characters', 'num_words', 'avg_word_length', 'num_sentences', 'polarity', 'subjectivity']].values))\n",
    "\n",
    "# Check the shape of the combined features\n",
    "print(\"Shape of combined features:\", X_combined.shape)"
   ]
  },
  {
   "cell_type": "markdown",
   "metadata": {},
   "source": [
    "**MODEL TRAINING**"
   ]
  },
  {
   "cell_type": "markdown",
   "metadata": {},
   "source": [
    "Building LSTM model"
   ]
  },
  {
   "cell_type": "code",
   "execution_count": null,
   "metadata": {},
   "outputs": [
    {
     "data": {
      "application/vnd.google.colaboratory.intrinsic+json": {
       "type": "string"
      },
      "text/plain": [
       "\"from tensorflow.keras.models import Sequential\\nfrom tensorflow.keras.layers import Embedding, LSTM, Dense, Dropout, BatchNormalization\\n\\n# Define the LSTM model\\nmodel = Sequential()\\n\\n# Embedding layer\\nmodel.add(Embedding(input_dim=5000, output_dim=100, input_length=X_padded.shape[1]))  # Use the padded sequence length\\n\\n# LSTM layer\\nmodel.add(LSTM(128, return_sequences=False))  # Return a single output after processing the sequence\\nmodel.add(Dropout(0.2))  # Dropout for regularization\\n\\n# Fully connected dense layers\\nmodel.add(Dense(64, activation='relu'))\\nmodel.add(BatchNormalization())  # Batch normalization for stable training\\nmodel.add(Dropout(0.2))\\n\\n# Output layer (for multi-class classification)\\nmodel.add(Dense(y_encoded.shape[1], activation='softmax'))  # Number of classes = number of emotions\\n\\n# Compile the model\\nmodel.compile(optimizer='adam', loss='categorical_crossentropy', metrics=['accuracy'])\\n\\n# Print model summary\\nmodel.summary()\""
      ]
     },
     "metadata": {},
     "output_type": "display_data"
    }
   ],
   "source": [
    "'''from tensorflow.keras.models import Sequential\n",
    "from tensorflow.keras.layers import Embedding, LSTM, Dense, Dropout, BatchNormalization\n",
    "\n",
    "# Define the LSTM model\n",
    "model = Sequential()\n",
    "\n",
    "# Embedding layer\n",
    "model.add(Embedding(input_dim=5000, output_dim=100, input_length=X_padded.shape[1]))  # Use the padded sequence length\n",
    "\n",
    "# LSTM layer\n",
    "model.add(LSTM(128, return_sequences=False))  # Return a single output after processing the sequence\n",
    "model.add(Dropout(0.2))  # Dropout for regularization\n",
    "\n",
    "# Fully connected dense layers\n",
    "model.add(Dense(64, activation='relu'))\n",
    "model.add(BatchNormalization())  # Batch normalization for stable training\n",
    "model.add(Dropout(0.2))\n",
    "\n",
    "# Output layer (for multi-class classification)\n",
    "model.add(Dense(y_encoded.shape[1], activation='softmax'))  # Number of classes = number of emotions\n",
    "\n",
    "# Compile the model\n",
    "model.compile(optimizer='adam', loss='categorical_crossentropy', metrics=['accuracy'])\n",
    "\n",
    "# Print model summary\n",
    "model.summary()'''"
   ]
  },
  {
   "cell_type": "markdown",
   "metadata": {},
   "source": [
    "Training the model"
   ]
  },
  {
   "cell_type": "code",
   "execution_count": null,
   "metadata": {},
   "outputs": [
    {
     "data": {
      "application/vnd.google.colaboratory.intrinsic+json": {
       "type": "string"
      },
      "text/plain": [
       "'# Train the model\\nhistory = model.fit(\\n    X_train, y_train,\\n    epochs=50,  # Number of epochs (adjust based on performance)\\n    batch_size=64,  # Batch size\\n    validation_data=(X_val, y_val),\\n    verbose=1  # Show detailed training progress\\n)'"
      ]
     },
     "metadata": {},
     "output_type": "display_data"
    }
   ],
   "source": [
    "'''# Train the model\n",
    "history = model.fit(\n",
    "    X_train, y_train,\n",
    "    epochs=50,  # Number of epochs (adjust based on performance)\n",
    "    batch_size=64,  # Batch size\n",
    "    validation_data=(X_val, y_val),\n",
    "    verbose=1  # Show detailed training progress\n",
    ")'''"
   ]
  },
  {
   "cell_type": "markdown",
   "metadata": {},
   "source": [
    "As our model is not learning well we will use pre trained word embeddings GloVe"
   ]
  },
  {
   "cell_type": "code",
   "execution_count": null,
   "metadata": {},
   "outputs": [
    {
     "name": "stdout",
     "output_type": "stream",
     "text": [
      "Loaded 400001 word vectors from GloVe.\n"
     ]
    }
   ],
   "source": [
    "import numpy as np\n",
    "\n",
    "# Path to the GloVe file (adjust the path based on your download location)\n",
    "glove_file = \"C:/Users/ASUS/Desktop/Week-2_Task/glove.6B.100d.txt\"  # Using 100-dimensional embeddings\n",
    "\n",
    "# Load GloVe embeddings\n",
    "embedding_index = {}\n",
    "with open(glove_file, encoding='utf-8') as f:\n",
    "    for line in f:\n",
    "        values = line.split()\n",
    "        word = values[0]  # Word\n",
    "        coef = np.asarray(values[1:], dtype='float32')  # Vector representation\n",
    "        embedding_index[word] = coef\n",
    "\n",
    "print(f\"Loaded {len(embedding_index)} word vectors from GloVe.\")"
   ]
  },
  {
   "cell_type": "code",
   "execution_count": null,
   "metadata": {},
   "outputs": [
    {
     "name": "stdout",
     "output_type": "stream",
     "text": [
      "Embedding matrix shape: (5000, 100)\n"
     ]
    }
   ],
   "source": [
    "vocab_size = 5000  # Vocabulary size (same as used in your tokenizer)\n",
    "embedding_dim = 100  # Embedding dimension (same as GloVe file)\n",
    "\n",
    "# Initialize embedding matrix\n",
    "embedding_matrix = np.zeros((vocab_size, embedding_dim))\n",
    "\n",
    "# Populate embedding matrix with GloVe vectors\n",
    "for word, i in tokenizer.word_index.items():\n",
    "    if i < vocab_size:  # Limit to vocab_size\n",
    "        embedding_vector = embedding_index.get(word)\n",
    "        if embedding_vector is not None:\n",
    "            embedding_matrix[i] = embedding_vector  # Assign GloVe vector\n",
    "        else:\n",
    "            embedding_matrix[i] = np.random.uniform(-0.01, 0.01, embedding_dim)  # Random initialization for unknown words\n",
    "\n",
    "print(\"Embedding matrix shape:\", embedding_matrix.shape)"
   ]
  },
  {
   "cell_type": "code",
   "execution_count": null,
   "metadata": {},
   "outputs": [
    {
     "name": "stdout",
     "output_type": "stream",
     "text": [
      "{0: 0.9886247086247086, 1: 0.9968504677290462, 2: 0.9998114097123998, 3: 0.9877957890814235, 4: 1.0183931229890026, 5: 1.0092328193413287}\n"
     ]
    }
   ],
   "source": [
    "from sklearn.utils.class_weight import compute_class_weight\n",
    "import numpy as np\n",
    "\n",
    "# Convert y_train to class indices if it's one-hot encoded\n",
    "if len(y_train.shape) > 1 and y_train.shape[1] > 1:  # Detect one-hot encoding\n",
    "    y_train_indices = np.argmax(y_train, axis=1)\n",
    "else:\n",
    "    y_train_indices = y_train\n",
    "\n",
    "# Compute class weights\n",
    "class_weights = compute_class_weight(\n",
    "    class_weight='balanced',\n",
    "    classes=np.unique(y_train_indices),\n",
    "    y=y_train_indices\n",
    ")\n",
    "class_weights = dict(enumerate(class_weights))\n",
    "print(class_weights)"
   ]
  },
  {
   "cell_type": "code",
   "execution_count": null,
   "metadata": {},
   "outputs": [
    {
     "data": {
      "text/html": [
       "<pre style=\"white-space:pre;overflow-x:auto;line-height:normal;font-family:Menlo,'DejaVu Sans Mono',consolas,'Courier New',monospace\"><span style=\"font-weight: bold\">Model: \"sequential_4\"</span>\n",
       "</pre>\n"
      ],
      "text/plain": [
       "\u001b[1mModel: \"sequential_4\"\u001b[0m\n"
      ]
     },
     "metadata": {},
     "output_type": "display_data"
    },
    {
     "data": {
      "text/html": [
       "<pre style=\"white-space:pre;overflow-x:auto;line-height:normal;font-family:Menlo,'DejaVu Sans Mono',consolas,'Courier New',monospace\">┏━━━━━━━━━━━━━━━━━━━━━━━━━━━━━━━━━┳━━━━━━━━━━━━━━━━━━━━━━━━┳━━━━━━━━━━━━━━━┓\n",
       "┃<span style=\"font-weight: bold\"> Layer (type)                    </span>┃<span style=\"font-weight: bold\"> Output Shape           </span>┃<span style=\"font-weight: bold\">       Param # </span>┃\n",
       "┡━━━━━━━━━━━━━━━━━━━━━━━━━━━━━━━━━╇━━━━━━━━━━━━━━━━━━━━━━━━╇━━━━━━━━━━━━━━━┩\n",
       "│ embedding_3 (<span style=\"color: #0087ff; text-decoration-color: #0087ff\">Embedding</span>)         │ ?                      │   <span style=\"color: #00af00; text-decoration-color: #00af00\">0</span> (unbuilt) │\n",
       "├─────────────────────────────────┼────────────────────────┼───────────────┤\n",
       "│ lstm_6 (<span style=\"color: #0087ff; text-decoration-color: #0087ff\">LSTM</span>)                   │ ?                      │   <span style=\"color: #00af00; text-decoration-color: #00af00\">0</span> (unbuilt) │\n",
       "├─────────────────────────────────┼────────────────────────┼───────────────┤\n",
       "│ dropout_3 (<span style=\"color: #0087ff; text-decoration-color: #0087ff\">Dropout</span>)             │ ?                      │   <span style=\"color: #00af00; text-decoration-color: #00af00\">0</span> (unbuilt) │\n",
       "├─────────────────────────────────┼────────────────────────┼───────────────┤\n",
       "│ dense_6 (<span style=\"color: #0087ff; text-decoration-color: #0087ff\">Dense</span>)                 │ ?                      │   <span style=\"color: #00af00; text-decoration-color: #00af00\">0</span> (unbuilt) │\n",
       "├─────────────────────────────────┼────────────────────────┼───────────────┤\n",
       "│ batch_normalization             │ ?                      │   <span style=\"color: #00af00; text-decoration-color: #00af00\">0</span> (unbuilt) │\n",
       "│ (<span style=\"color: #0087ff; text-decoration-color: #0087ff\">BatchNormalization</span>)            │                        │               │\n",
       "├─────────────────────────────────┼────────────────────────┼───────────────┤\n",
       "│ dropout_4 (<span style=\"color: #0087ff; text-decoration-color: #0087ff\">Dropout</span>)             │ ?                      │   <span style=\"color: #00af00; text-decoration-color: #00af00\">0</span> (unbuilt) │\n",
       "├─────────────────────────────────┼────────────────────────┼───────────────┤\n",
       "│ dense_7 (<span style=\"color: #0087ff; text-decoration-color: #0087ff\">Dense</span>)                 │ ?                      │   <span style=\"color: #00af00; text-decoration-color: #00af00\">0</span> (unbuilt) │\n",
       "└─────────────────────────────────┴────────────────────────┴───────────────┘\n",
       "</pre>\n"
      ],
      "text/plain": [
       "┏━━━━━━━━━━━━━━━━━━━━━━━━━━━━━━━━━┳━━━━━━━━━━━━━━━━━━━━━━━━┳━━━━━━━━━━━━━━━┓\n",
       "┃\u001b[1m \u001b[0m\u001b[1mLayer (type)                   \u001b[0m\u001b[1m \u001b[0m┃\u001b[1m \u001b[0m\u001b[1mOutput Shape          \u001b[0m\u001b[1m \u001b[0m┃\u001b[1m \u001b[0m\u001b[1m      Param #\u001b[0m\u001b[1m \u001b[0m┃\n",
       "┡━━━━━━━━━━━━━━━━━━━━━━━━━━━━━━━━━╇━━━━━━━━━━━━━━━━━━━━━━━━╇━━━━━━━━━━━━━━━┩\n",
       "│ embedding_3 (\u001b[38;5;33mEmbedding\u001b[0m)         │ ?                      │   \u001b[38;5;34m0\u001b[0m (unbuilt) │\n",
       "├─────────────────────────────────┼────────────────────────┼───────────────┤\n",
       "│ lstm_6 (\u001b[38;5;33mLSTM\u001b[0m)                   │ ?                      │   \u001b[38;5;34m0\u001b[0m (unbuilt) │\n",
       "├─────────────────────────────────┼────────────────────────┼───────────────┤\n",
       "│ dropout_3 (\u001b[38;5;33mDropout\u001b[0m)             │ ?                      │   \u001b[38;5;34m0\u001b[0m (unbuilt) │\n",
       "├─────────────────────────────────┼────────────────────────┼───────────────┤\n",
       "│ dense_6 (\u001b[38;5;33mDense\u001b[0m)                 │ ?                      │   \u001b[38;5;34m0\u001b[0m (unbuilt) │\n",
       "├─────────────────────────────────┼────────────────────────┼───────────────┤\n",
       "│ batch_normalization             │ ?                      │   \u001b[38;5;34m0\u001b[0m (unbuilt) │\n",
       "│ (\u001b[38;5;33mBatchNormalization\u001b[0m)            │                        │               │\n",
       "├─────────────────────────────────┼────────────────────────┼───────────────┤\n",
       "│ dropout_4 (\u001b[38;5;33mDropout\u001b[0m)             │ ?                      │   \u001b[38;5;34m0\u001b[0m (unbuilt) │\n",
       "├─────────────────────────────────┼────────────────────────┼───────────────┤\n",
       "│ dense_7 (\u001b[38;5;33mDense\u001b[0m)                 │ ?                      │   \u001b[38;5;34m0\u001b[0m (unbuilt) │\n",
       "└─────────────────────────────────┴────────────────────────┴───────────────┘\n"
      ]
     },
     "metadata": {},
     "output_type": "display_data"
    },
    {
     "data": {
      "text/html": [
       "<pre style=\"white-space:pre;overflow-x:auto;line-height:normal;font-family:Menlo,'DejaVu Sans Mono',consolas,'Courier New',monospace\"><span style=\"font-weight: bold\"> Total params: </span><span style=\"color: #00af00; text-decoration-color: #00af00\">0</span> (0.00 B)\n",
       "</pre>\n"
      ],
      "text/plain": [
       "\u001b[1m Total params: \u001b[0m\u001b[38;5;34m0\u001b[0m (0.00 B)\n"
      ]
     },
     "metadata": {},
     "output_type": "display_data"
    },
    {
     "data": {
      "text/html": [
       "<pre style=\"white-space:pre;overflow-x:auto;line-height:normal;font-family:Menlo,'DejaVu Sans Mono',consolas,'Courier New',monospace\"><span style=\"font-weight: bold\"> Trainable params: </span><span style=\"color: #00af00; text-decoration-color: #00af00\">0</span> (0.00 B)\n",
       "</pre>\n"
      ],
      "text/plain": [
       "\u001b[1m Trainable params: \u001b[0m\u001b[38;5;34m0\u001b[0m (0.00 B)\n"
      ]
     },
     "metadata": {},
     "output_type": "display_data"
    },
    {
     "data": {
      "text/html": [
       "<pre style=\"white-space:pre;overflow-x:auto;line-height:normal;font-family:Menlo,'DejaVu Sans Mono',consolas,'Courier New',monospace\"><span style=\"font-weight: bold\"> Non-trainable params: </span><span style=\"color: #00af00; text-decoration-color: #00af00\">0</span> (0.00 B)\n",
       "</pre>\n"
      ],
      "text/plain": [
       "\u001b[1m Non-trainable params: \u001b[0m\u001b[38;5;34m0\u001b[0m (0.00 B)\n"
      ]
     },
     "metadata": {},
     "output_type": "display_data"
    }
   ],
   "source": [
    "from tensorflow.keras.models import Sequential\n",
    "from tensorflow.keras.layers import Embedding, LSTM, Dense, Dropout, BatchNormalization\n",
    "\n",
    "# Define the LSTM model\n",
    "model = Sequential()\n",
    "\n",
    "# Embedding layer\n",
    "model.add(Embedding(input_dim=5000, output_dim=100, input_length=X_padded.shape[1]))  # Use the padded sequence length\n",
    "\n",
    "# LSTM layer\n",
    "model.add(LSTM(128, return_sequences=False))  # Return a single output after processing the sequence\n",
    "model.add(Dropout(0.2))  # Dropout for regularization\n",
    "\n",
    "# Fully connected dense layers\n",
    "model.add(Dense(64, activation='relu'))\n",
    "model.add(BatchNormalization())  # Batch normalization for stable training\n",
    "model.add(Dropout(0.2))\n",
    "\n",
    "# Output layer (for multi-class classification)\n",
    "model.add(Dense(y_encoded.shape[1], activation='softmax'))  # Number of classes = number of emotions\n",
    "\n",
    "# Compile the model\n",
    "model.compile(optimizer='adam', loss='categorical_crossentropy', metrics=['accuracy'])\n",
    "\n",
    "# Print model summary\n",
    "model.summary()"
   ]
  },
  {
   "cell_type": "code",
   "execution_count": null,
   "metadata": {},
   "outputs": [],
   "source": [
    "from tensorflow.keras.optimizers import Adam\n",
    "\n",
    "# Set a lower learning rate\n",
    "optimizer = Adam(learning_rate=0.00005)\n",
    "\n",
    "# Re-compile the model with the new optimizer\n",
    "model.compile(optimizer=optimizer, loss='categorical_crossentropy', metrics=['accuracy'])"
   ]
  },
  {
   "cell_type": "code",
   "execution_count": null,
   "metadata": {},
   "outputs": [],
   "source": [
    "from tensorflow.keras.callbacks import EarlyStopping\n",
    "# Add Early Stopping to monitor validation loss\n",
    "early_stopping = EarlyStopping(monitor='val_loss', patience=5, restore_best_weights=True, verbose=1)"
   ]
  },
  {
   "cell_type": "code",
   "execution_count": null,
   "metadata": {},
   "outputs": [],
   "source": [
    "from tensorflow.keras.callbacks import LearningRateScheduler\n",
    "# Learning rate scheduler\n",
    "def lr_schedule(epoch, lr):\n",
    "    if epoch > 10:\n",
    "        return lr * 0.9  # Reduce learning rate by 10% after epoch 10\n",
    "    return lr\n",
    "\n",
    "lr_scheduler = LearningRateScheduler(lr_schedule, verbose=1)"
   ]
  },
  {
   "cell_type": "code",
   "execution_count": null,
   "metadata": {},
   "outputs": [],
   "source": [
    "history = model.fit(\n",
    "    X_train, y_train,\n",
    "    epochs=30,  # Start with fewer epochs\n",
    "    batch_size=64,\n",
    "    validation_data=(X_val, y_val),\n",
    "    callbacks=[early_stopping,lr_scheduler],\n",
    "    class_weight=class_weights,\n",
    "    verbose=1\n",
    ")\n",
    "\n",
    "# Save the model\n",
    "model.save('emotion_classification_model1.h5')\n",
    "\n",
    "# Save the tokenizer\n",
    "import pickle\n",
    "with open('tokenizer1.pkl', 'wb') as f:\n",
    "    pickle.dump(tokenizer, f)\n",
    "\n",
    "print(\"Model and tokenizer saved successfully!\")"
   ]
  },
  {
   "cell_type": "markdown",
   "metadata": {},
   "source": [
    "**MODEL EVALUATIONS**"
   ]
  },
  {
   "cell_type": "code",
   "execution_count": null,
   "metadata": {},
   "outputs": [
    {
     "data": {
      "image/png": "[encoded data removed]",
      "text/plain": [
       "<Figure size 640x480 with 1 Axes>"
      ]
     },
     "metadata": {},
     "output_type": "display_data"
    },
    {
     "data": {
      "image/png": "[encoded data removed]",
      "text/plain": [
       "<Figure size 640x480 with 1 Axes>"
      ]
     },
     "metadata": {},
     "output_type": "display_data"
    }
   ],
   "source": [
    "import matplotlib.pyplot as plt\n",
    "\n",
    "# Plot accuracy\n",
    "plt.plot(history.history['accuracy'], label='Training Accuracy')\n",
    "plt.plot(history.history['val_accuracy'], label='Validation Accuracy')\n",
    "plt.title('Model Accuracy with Class Weights')\n",
    "plt.xlabel('Epochs')\n",
    "plt.ylabel('Accuracy')\n",
    "plt.legend()\n",
    "plt.show()\n",
    "\n",
    "# Plot loss\n",
    "plt.plot(history.history['loss'], label='Training Loss')\n",
    "plt.plot(history.history['val_loss'], label='Validation Loss')\n",
    "plt.title('Model Loss with Class Weights')\n",
    "plt.xlabel('Epochs')\n",
    "plt.ylabel('Loss')\n",
    "plt.legend()\n",
    "plt.show()\n"
   ]
  },
  {
   "cell_type": "markdown",
   "metadata": {},
   "source": [
    "**VISUALIZATION RESULTS**"
   ]
  },
  {
   "cell_type": "code",
   "execution_count": null,
   "metadata": {},
   "outputs": [],
   "source": [
    "from tensorflow.keras.models import load_model\n",
    "model = load_model(\"C:/Users/ASUS/Desktop/Week-2_Task/emotion_classification_model.h5\")\n",
    "model.summary()"
   ]
  },
  {
   "cell_type": "code",
   "execution_count": null,
   "metadata": {},
   "outputs": [
    {
     "name": "stderr",
     "output_type": "stream",
     "text": [
      "WARNING:absl:Compiled the loaded model, but the compiled metrics have yet to be built. `model.compile_metrics` will be empty until you train or evaluate the model.\n"
     ]
    },
    {
     "name": "stdout",
     "output_type": "stream",
     "text": [
      "\u001b[1m415/415\u001b[0m \u001b[32m━━━━━━━━━━━━━━━━━━━━\u001b[0m\u001b[37m\u001b[0m \u001b[1m31s\u001b[0m 70ms/step - accuracy: 0.7621 - loss: 0.7744\n",
      "Test Loss: 0.7914263010025024\n",
      "Test Accuracy: 0.759544312953949\n",
      "\u001b[1m415/415\u001b[0m \u001b[32m━━━━━━━━━━━━━━━━━━━━\u001b[0m\u001b[37m\u001b[0m \u001b[1m26s\u001b[0m 63ms/step\n",
      "Classification Report:\n",
      "              precision    recall  f1-score   support\n",
      "\n",
      "       anger       0.78      0.76      0.77      2176\n",
      "        fear       0.82      0.78      0.80      2192\n",
      "         joy       0.61      0.69      0.65      2189\n",
      "     neutral       0.93      0.96      0.95      2178\n",
      "     sadness       0.65      0.61      0.63      2291\n",
      "    surprise       0.78      0.77      0.77      2228\n",
      "\n",
      "    accuracy                           0.76     13254\n",
      "   macro avg       0.76      0.76      0.76     13254\n",
      "weighted avg       0.76      0.76      0.76     13254\n",
      "\n"
     ]
    },
    {
     "data": {
      "image/png": "[encoded data removed]",
      "text/plain": [
       "<Figure size 800x600 with 2 Axes>"
      ]
     },
     "metadata": {},
     "output_type": "display_data"
    }
   ],
   "source": [
    "from tensorflow.keras.models import load_model\n",
    "from sklearn.metrics import classification_report, confusion_matrix\n",
    "import seaborn as sns\n",
    "import matplotlib.pyplot as plt\n",
    "\n",
    "# Load the saved model\n",
    "model = load_model('C:/Users/ASUS/Desktop/Week-2_Task/emotion_classification_model.h5')\n",
    "\n",
    "# Evaluate the model on the test set\n",
    "test_loss, test_accuracy = model.evaluate(X_test, y_test, verbose=1)\n",
    "print(f\"Test Loss: {test_loss}\")\n",
    "print(f\"Test Accuracy: {test_accuracy}\")\n",
    "\n",
    "# Predictions\n",
    "y_pred = model.predict(X_test)\n",
    "y_pred_classes = y_pred.argmax(axis=1)\n",
    "y_true_classes = y_test.argmax(axis=1)\n",
    "\n",
    "# Classification report\n",
    "print(\"Classification Report:\")\n",
    "print(classification_report(y_true_classes, y_pred_classes, target_names=class_names))\n",
    "\n",
    "# Confusion matrix\n",
    "conf_matrix = confusion_matrix(y_true_classes, y_pred_classes)\n",
    "plt.figure(figsize=(8, 6))\n",
    "sns.heatmap(conf_matrix, annot=True, fmt='d', cmap='Blues', xticklabels=class_names, yticklabels=class_names)\n",
    "plt.title(\"Confusion Matrix\")\n",
    "plt.xlabel(\"Predicted\")\n",
    "plt.ylabel(\"True\")\n",
    "plt.show()"
   ]
  },
  {
   "cell_type": "code",
   "execution_count": null,
   "metadata": {},
   "outputs": [
    {
     "name": "stdout",
     "output_type": "stream",
     "text": [
      "Padded Text: [[  2  94  19  77   4 112   0   0   0   0   0   0   0   0   0   0   0   0\n",
      "    0   0   0   0   0   0   0   0   0   0   0   0   0   0   0   0   0   0\n",
      "    0   0   0   0   0   0   0   0   0   0   0   0   0   0   0   0   0   0\n",
      "    0   0   0   0   0   0   0   0   0   0   0   0   0   0   0   0   0   0\n",
      "    0   0   0   0   0   0   0   0   0   0   0   0   0   0   0   0   0   0\n",
      "    0   0   0   0   0   0   0   0   0   0   0   0   0   0   0   0   0   0\n",
      "    0   0   0   0   0   0   0   0   0   0   0   0   0   0   0   0   0   0\n",
      "    0   0   0   0   0   0   0   0   0   0   0   0   0   0   0   0   0   0\n",
      "    0   0   0   0   0   0   0   0   0   0   0   0]]\n"
     ]
    }
   ],
   "source": [
    "import pickle\n",
    "\n",
    "# Load the tokenizer\n",
    "with open(\"C:/Users/ASUS/Desktop/Week-2_Task/tokenizer.pkl\", \"rb\") as f:\n",
    "    tokenizer = pickle.load(f)\n",
    "\n",
    "from tensorflow.keras.preprocessing.sequence import pad_sequences\n",
    "\n",
    "# Example input\n",
    "custom_text = [\"I am not going to school!\"]\n",
    "\n",
    "# Convert text to sequences\n",
    "tokenized_text = tokenizer.texts_to_sequences(custom_text)\n",
    "\n",
    "# Pad sequences to match the model's expected input length (156 in your case)\n",
    "padded_text = pad_sequences(tokenized_text, maxlen=156, padding=\"post\", truncating=\"post\")\n",
    "\n",
    "print(\"Padded Text:\", padded_text)"
   ]
  },
  {
   "cell_type": "code",
   "execution_count": null,
   "metadata": {},
   "outputs": [
    {
     "name": "stdout",
     "output_type": "stream",
     "text": [
      "\u001b[1m1/1\u001b[0m \u001b[32m━━━━━━━━━━━━━━━━━━━━\u001b[0m\u001b[37m\u001b[0m \u001b[1m0s\u001b[0m 94ms/step\n",
      "Custom Input: I am not going to school!\n",
      "Predicted Emotion: neutral\n"
     ]
    }
   ],
   "source": [
    "import numpy as np\n",
    "\n",
    "# Predict the emotion class\n",
    "predictions = model.predict(padded_text)\n",
    "predicted_class = np.argmax(predictions, axis=1)\n",
    "\n",
    "# Map predicted class index to class names\n",
    "class_names = ['anger', 'fear', 'joy', 'neutral', 'sadness', 'surprise']  # Replace with your actual class names\n",
    "predicted_emotion = class_names[predicted_class[0]]\n",
    "\n",
    "print(f\"Custom Input: {custom_text[0]}\")\n",
    "print(f\"Predicted Emotion: {predicted_emotion}\")"
   ]
  }
 ],
 "metadata": {
  "language_info": {
   "name": "python"
  }
 },
 "nbformat": 4,
 "nbformat_minor": 2
}
